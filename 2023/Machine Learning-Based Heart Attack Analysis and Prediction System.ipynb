{
 "cells": [
  {
   "attachments": {},
   "cell_type": "markdown",
   "metadata": {},
   "source": [
    "# Cardiovascular Disease dataset\n",
    "\n",
    "The dataset consists of 70 000 records of patients data, 11 features + target.\n",
    "\n",
    "source: https://www.kaggle.com/datasets/sulianova/cardiovascular-disease-dataset"
   ]
  },
  {
   "attachments": {},
   "cell_type": "markdown",
   "metadata": {},
   "source": [
    "# 1.0 Import dependencies"
   ]
  },
  {
   "cell_type": "code",
   "execution_count": 1,
   "metadata": {},
   "outputs": [],
   "source": [
    "#Import dependencies\n",
    "import pandas as pd\n",
    "import numpy as np\n",
    "import matplotlib.pyplot as plt\n",
    "import seaborn as sns\n",
    "import scipy.stats as ss \n",
    "\n",
    "from sklearn.model_selection import train_test_split\n",
    "\n",
    "from sklearn.pipeline import Pipeline\n",
    "\n",
    "from sklearn.linear_model import LogisticRegression\n",
    "from sklearn.ensemble import RandomForestClassifier, GradientBoostingClassifier\n",
    "from sklearn.svm import SVC\n",
    "from sklearn.tree import DecisionTreeClassifier\n",
    "\n",
    "from sklearn.preprocessing import StandardScaler, MinMaxScaler\n",
    "\n",
    "from sklearn.metrics import f1_score, accuracy_score\n",
    "\n",
    "from sklearn.model_selection import GridSearchCV, RandomizedSearchCV\n",
    "\n",
    "from sklearn.metrics import classification_report, confusion_matrix\n",
    "from sklearn.metrics import ConfusionMatrixDisplay\n",
    "\n",
    "import os \n",
    "import pickle"
   ]
  },
  {
   "attachments": {},
   "cell_type": "markdown",
   "metadata": {},
   "source": [
    "# 2.0 Data Loading"
   ]
  },
  {
   "cell_type": "code",
   "execution_count": 3,
   "metadata": {},
   "outputs": [
    {
     "data": {
      "text/html": [
       "<div>\n",
       "<style scoped>\n",
       "    .dataframe tbody tr th:only-of-type {\n",
       "        vertical-align: middle;\n",
       "    }\n",
       "\n",
       "    .dataframe tbody tr th {\n",
       "        vertical-align: top;\n",
       "    }\n",
       "\n",
       "    .dataframe thead th {\n",
       "        text-align: right;\n",
       "    }\n",
       "</style>\n",
       "<table border=\"1\" class=\"dataframe\">\n",
       "  <thead>\n",
       "    <tr style=\"text-align: right;\">\n",
       "      <th></th>\n",
       "      <th>id</th>\n",
       "      <th>age</th>\n",
       "      <th>gender</th>\n",
       "      <th>height</th>\n",
       "      <th>weight</th>\n",
       "      <th>ap_hi</th>\n",
       "      <th>ap_lo</th>\n",
       "      <th>cholesterol</th>\n",
       "      <th>gluc</th>\n",
       "      <th>smoke</th>\n",
       "      <th>alco</th>\n",
       "      <th>active</th>\n",
       "      <th>cardio</th>\n",
       "    </tr>\n",
       "  </thead>\n",
       "  <tbody>\n",
       "    <tr>\n",
       "      <th>0</th>\n",
       "      <td>0</td>\n",
       "      <td>18393</td>\n",
       "      <td>2</td>\n",
       "      <td>168.0</td>\n",
       "      <td>62.0</td>\n",
       "      <td>110</td>\n",
       "      <td>80</td>\n",
       "      <td>1.0</td>\n",
       "      <td>1</td>\n",
       "      <td>0</td>\n",
       "      <td>0.0</td>\n",
       "      <td>1</td>\n",
       "      <td>0</td>\n",
       "    </tr>\n",
       "    <tr>\n",
       "      <th>1</th>\n",
       "      <td>1</td>\n",
       "      <td>20228</td>\n",
       "      <td>1</td>\n",
       "      <td>156.0</td>\n",
       "      <td>85.0</td>\n",
       "      <td>140</td>\n",
       "      <td>90</td>\n",
       "      <td>3.0</td>\n",
       "      <td>1</td>\n",
       "      <td>0</td>\n",
       "      <td>0.0</td>\n",
       "      <td>1</td>\n",
       "      <td>1</td>\n",
       "    </tr>\n",
       "    <tr>\n",
       "      <th>2</th>\n",
       "      <td>2</td>\n",
       "      <td>18857</td>\n",
       "      <td>1</td>\n",
       "      <td>165.0</td>\n",
       "      <td>64.0</td>\n",
       "      <td>130</td>\n",
       "      <td>70</td>\n",
       "      <td>3.0</td>\n",
       "      <td>1</td>\n",
       "      <td>0</td>\n",
       "      <td>0.0</td>\n",
       "      <td>0</td>\n",
       "      <td>1</td>\n",
       "    </tr>\n",
       "    <tr>\n",
       "      <th>3</th>\n",
       "      <td>3</td>\n",
       "      <td>17623</td>\n",
       "      <td>2</td>\n",
       "      <td>169.0</td>\n",
       "      <td>82.0</td>\n",
       "      <td>150</td>\n",
       "      <td>100</td>\n",
       "      <td>1.0</td>\n",
       "      <td>1</td>\n",
       "      <td>0</td>\n",
       "      <td>0.0</td>\n",
       "      <td>1</td>\n",
       "      <td>1</td>\n",
       "    </tr>\n",
       "    <tr>\n",
       "      <th>4</th>\n",
       "      <td>4</td>\n",
       "      <td>17474</td>\n",
       "      <td>1</td>\n",
       "      <td>156.0</td>\n",
       "      <td>56.0</td>\n",
       "      <td>100</td>\n",
       "      <td>60</td>\n",
       "      <td>1.0</td>\n",
       "      <td>1</td>\n",
       "      <td>0</td>\n",
       "      <td>0.0</td>\n",
       "      <td>0</td>\n",
       "      <td>0</td>\n",
       "    </tr>\n",
       "  </tbody>\n",
       "</table>\n",
       "</div>"
      ],
      "text/plain": [
       "   id    age  gender  height  weight  ap_hi  ap_lo  cholesterol  gluc  smoke  \\\n",
       "0   0  18393       2   168.0    62.0    110     80          1.0     1      0   \n",
       "1   1  20228       1   156.0    85.0    140     90          3.0     1      0   \n",
       "2   2  18857       1   165.0    64.0    130     70          3.0     1      0   \n",
       "3   3  17623       2   169.0    82.0    150    100          1.0     1      0   \n",
       "4   4  17474       1   156.0    56.0    100     60          1.0     1      0   \n",
       "\n",
       "   alco  active  cardio  \n",
       "0   0.0       1       0  \n",
       "1   0.0       1       1  \n",
       "2   0.0       0       1  \n",
       "3   0.0       1       1  \n",
       "4   0.0       0       0  "
      ]
     },
     "execution_count": 3,
     "metadata": {},
     "output_type": "execute_result"
    }
   ],
   "source": [
    "#data loading\n",
    "df = pd.read_csv('cardio_train.csv', sep= \";\") # data seperated by ';'\n",
    "df.head()"
   ]
  },
  {
   "attachments": {},
   "cell_type": "markdown",
   "metadata": {},
   "source": [
    "##  2.1 Variable description\n",
    "    Age | Objective Feature | age | int (days)\n",
    "    Height | Objective Feature | height | int (cm) |\n",
    "    Weight | Objective Feature | weight | float (kg) |\n",
    "    Gender | Objective Feature | gender | categorical code |\n",
    "    Systolic blood pressure | Examination Feature | ap_hi | int |\n",
    "    Diastolic blood pressure | Examination Feature | ap_lo | int |\n",
    "    Cholesterol | Examination Feature | cholesterol | 1: normal, 2: above normal, 3: well above normal |\n",
    "    Glucose | Examination Feature | gluc | 1: normal, 2: above normal, 3: well above normal |\n",
    "    Smoking | Subjective Feature | smoke | binary |\n",
    "    Alcohol intake | Subjective Feature | alco | binary |\n",
    "    Physical activity | Subjective Feature | active | binary |\n",
    "    Presence or absence of cardiovascular disease | Target Variable | cardio | binary |\n"
   ]
  },
  {
   "attachments": {},
   "cell_type": "markdown",
   "metadata": {},
   "source": [
    "# 3.0 Data Inspection"
   ]
  },
  {
   "attachments": {},
   "cell_type": "markdown",
   "metadata": {},
   "source": [
    "## 3.1 Brief Summary of the data"
   ]
  },
  {
   "cell_type": "code",
   "execution_count": 4,
   "metadata": {},
   "outputs": [
    {
     "data": {
      "text/html": [
       "<div>\n",
       "<style scoped>\n",
       "    .dataframe tbody tr th:only-of-type {\n",
       "        vertical-align: middle;\n",
       "    }\n",
       "\n",
       "    .dataframe tbody tr th {\n",
       "        vertical-align: top;\n",
       "    }\n",
       "\n",
       "    .dataframe thead th {\n",
       "        text-align: right;\n",
       "    }\n",
       "</style>\n",
       "<table border=\"1\" class=\"dataframe\">\n",
       "  <thead>\n",
       "    <tr style=\"text-align: right;\">\n",
       "      <th></th>\n",
       "      <th>count</th>\n",
       "      <th>mean</th>\n",
       "      <th>std</th>\n",
       "      <th>min</th>\n",
       "      <th>25%</th>\n",
       "      <th>50%</th>\n",
       "      <th>75%</th>\n",
       "      <th>max</th>\n",
       "    </tr>\n",
       "  </thead>\n",
       "  <tbody>\n",
       "    <tr>\n",
       "      <th>id</th>\n",
       "      <td>70003.0</td>\n",
       "      <td>49970.283431</td>\n",
       "      <td>28852.529858</td>\n",
       "      <td>0.0</td>\n",
       "      <td>25002.5</td>\n",
       "      <td>50000.0</td>\n",
       "      <td>74887.5</td>\n",
       "      <td>99999.0</td>\n",
       "    </tr>\n",
       "    <tr>\n",
       "      <th>age</th>\n",
       "      <td>70003.0</td>\n",
       "      <td>19468.876134</td>\n",
       "      <td>2467.212795</td>\n",
       "      <td>10798.0</td>\n",
       "      <td>17664.0</td>\n",
       "      <td>19703.0</td>\n",
       "      <td>21327.0</td>\n",
       "      <td>23713.0</td>\n",
       "    </tr>\n",
       "    <tr>\n",
       "      <th>gender</th>\n",
       "      <td>70003.0</td>\n",
       "      <td>1.349585</td>\n",
       "      <td>0.476842</td>\n",
       "      <td>1.0</td>\n",
       "      <td>1.0</td>\n",
       "      <td>1.0</td>\n",
       "      <td>2.0</td>\n",
       "      <td>2.0</td>\n",
       "    </tr>\n",
       "    <tr>\n",
       "      <th>height</th>\n",
       "      <td>70001.0</td>\n",
       "      <td>164.359023</td>\n",
       "      <td>8.210026</td>\n",
       "      <td>55.0</td>\n",
       "      <td>159.0</td>\n",
       "      <td>165.0</td>\n",
       "      <td>170.0</td>\n",
       "      <td>250.0</td>\n",
       "    </tr>\n",
       "    <tr>\n",
       "      <th>weight</th>\n",
       "      <td>70002.0</td>\n",
       "      <td>74.206013</td>\n",
       "      <td>14.396345</td>\n",
       "      <td>10.0</td>\n",
       "      <td>65.0</td>\n",
       "      <td>72.0</td>\n",
       "      <td>82.0</td>\n",
       "      <td>200.0</td>\n",
       "    </tr>\n",
       "    <tr>\n",
       "      <th>ap_hi</th>\n",
       "      <td>70003.0</td>\n",
       "      <td>128.817479</td>\n",
       "      <td>154.008162</td>\n",
       "      <td>-150.0</td>\n",
       "      <td>120.0</td>\n",
       "      <td>120.0</td>\n",
       "      <td>140.0</td>\n",
       "      <td>16020.0</td>\n",
       "    </tr>\n",
       "    <tr>\n",
       "      <th>ap_lo</th>\n",
       "      <td>70003.0</td>\n",
       "      <td>96.629987</td>\n",
       "      <td>188.468505</td>\n",
       "      <td>-70.0</td>\n",
       "      <td>80.0</td>\n",
       "      <td>80.0</td>\n",
       "      <td>90.0</td>\n",
       "      <td>11000.0</td>\n",
       "    </tr>\n",
       "    <tr>\n",
       "      <th>cholesterol</th>\n",
       "      <td>70001.0</td>\n",
       "      <td>1.366909</td>\n",
       "      <td>0.680255</td>\n",
       "      <td>1.0</td>\n",
       "      <td>1.0</td>\n",
       "      <td>1.0</td>\n",
       "      <td>2.0</td>\n",
       "      <td>3.0</td>\n",
       "    </tr>\n",
       "    <tr>\n",
       "      <th>gluc</th>\n",
       "      <td>70003.0</td>\n",
       "      <td>1.226476</td>\n",
       "      <td>0.572299</td>\n",
       "      <td>1.0</td>\n",
       "      <td>1.0</td>\n",
       "      <td>1.0</td>\n",
       "      <td>1.0</td>\n",
       "      <td>3.0</td>\n",
       "    </tr>\n",
       "    <tr>\n",
       "      <th>smoke</th>\n",
       "      <td>70003.0</td>\n",
       "      <td>0.088125</td>\n",
       "      <td>0.283478</td>\n",
       "      <td>0.0</td>\n",
       "      <td>0.0</td>\n",
       "      <td>0.0</td>\n",
       "      <td>0.0</td>\n",
       "      <td>1.0</td>\n",
       "    </tr>\n",
       "    <tr>\n",
       "      <th>alco</th>\n",
       "      <td>70002.0</td>\n",
       "      <td>0.053770</td>\n",
       "      <td>0.225565</td>\n",
       "      <td>0.0</td>\n",
       "      <td>0.0</td>\n",
       "      <td>0.0</td>\n",
       "      <td>0.0</td>\n",
       "      <td>1.0</td>\n",
       "    </tr>\n",
       "    <tr>\n",
       "      <th>active</th>\n",
       "      <td>70003.0</td>\n",
       "      <td>0.803737</td>\n",
       "      <td>0.397173</td>\n",
       "      <td>0.0</td>\n",
       "      <td>1.0</td>\n",
       "      <td>1.0</td>\n",
       "      <td>1.0</td>\n",
       "      <td>1.0</td>\n",
       "    </tr>\n",
       "    <tr>\n",
       "      <th>cardio</th>\n",
       "      <td>70003.0</td>\n",
       "      <td>0.499707</td>\n",
       "      <td>0.500003</td>\n",
       "      <td>0.0</td>\n",
       "      <td>0.0</td>\n",
       "      <td>0.0</td>\n",
       "      <td>1.0</td>\n",
       "      <td>1.0</td>\n",
       "    </tr>\n",
       "  </tbody>\n",
       "</table>\n",
       "</div>"
      ],
      "text/plain": [
       "               count          mean           std      min      25%      50%  \\\n",
       "id           70003.0  49970.283431  28852.529858      0.0  25002.5  50000.0   \n",
       "age          70003.0  19468.876134   2467.212795  10798.0  17664.0  19703.0   \n",
       "gender       70003.0      1.349585      0.476842      1.0      1.0      1.0   \n",
       "height       70001.0    164.359023      8.210026     55.0    159.0    165.0   \n",
       "weight       70002.0     74.206013     14.396345     10.0     65.0     72.0   \n",
       "ap_hi        70003.0    128.817479    154.008162   -150.0    120.0    120.0   \n",
       "ap_lo        70003.0     96.629987    188.468505    -70.0     80.0     80.0   \n",
       "cholesterol  70001.0      1.366909      0.680255      1.0      1.0      1.0   \n",
       "gluc         70003.0      1.226476      0.572299      1.0      1.0      1.0   \n",
       "smoke        70003.0      0.088125      0.283478      0.0      0.0      0.0   \n",
       "alco         70002.0      0.053770      0.225565      0.0      0.0      0.0   \n",
       "active       70003.0      0.803737      0.397173      0.0      1.0      1.0   \n",
       "cardio       70003.0      0.499707      0.500003      0.0      0.0      0.0   \n",
       "\n",
       "                 75%      max  \n",
       "id           74887.5  99999.0  \n",
       "age          21327.0  23713.0  \n",
       "gender           2.0      2.0  \n",
       "height         170.0    250.0  \n",
       "weight          82.0    200.0  \n",
       "ap_hi          140.0  16020.0  \n",
       "ap_lo           90.0  11000.0  \n",
       "cholesterol      2.0      3.0  \n",
       "gluc             1.0      3.0  \n",
       "smoke            0.0      1.0  \n",
       "alco             0.0      1.0  \n",
       "active           1.0      1.0  \n",
       "cardio           1.0      1.0  "
      ]
     },
     "execution_count": 4,
     "metadata": {},
     "output_type": "execute_result"
    }
   ],
   "source": [
    "\n",
    "df.describe().T\n",
    "#there is some ridiculous value such as min of weight and min of ap_hi"
   ]
  },
  {
   "attachments": {},
   "cell_type": "markdown",
   "metadata": {},
   "source": [
    "## 3.2 Total columns and rows of the data and also the data type of each columns"
   ]
  },
  {
   "cell_type": "code",
   "execution_count": 5,
   "metadata": {},
   "outputs": [
    {
     "name": "stdout",
     "output_type": "stream",
     "text": [
      "<class 'pandas.core.frame.DataFrame'>\n",
      "RangeIndex: 70003 entries, 0 to 70002\n",
      "Data columns (total 13 columns):\n",
      " #   Column       Non-Null Count  Dtype  \n",
      "---  ------       --------------  -----  \n",
      " 0   id           70003 non-null  int64  \n",
      " 1   age          70003 non-null  int64  \n",
      " 2   gender       70003 non-null  int64  \n",
      " 3   height       70001 non-null  float64\n",
      " 4   weight       70002 non-null  float64\n",
      " 5   ap_hi        70003 non-null  int64  \n",
      " 6   ap_lo        70003 non-null  int64  \n",
      " 7   cholesterol  70001 non-null  float64\n",
      " 8   gluc         70003 non-null  int64  \n",
      " 9   smoke        70003 non-null  int64  \n",
      " 10  alco         70002 non-null  float64\n",
      " 11  active       70003 non-null  int64  \n",
      " 12  cardio       70003 non-null  int64  \n",
      "dtypes: float64(4), int64(9)\n",
      "memory usage: 6.9 MB\n"
     ]
    }
   ],
   "source": [
    "df.info()\n",
    "# can see there non-null count is not the same so will drop it later"
   ]
  },
  {
   "attachments": {},
   "cell_type": "markdown",
   "metadata": {},
   "source": [
    "## 3.3 Unique Data for each Columns\n",
    "\n",
    "This will help detect anomalies such as in gender, cholestrol and most categorical features\n"
   ]
  },
  {
   "cell_type": "code",
   "execution_count": null,
   "metadata": {},
   "outputs": [
    {
     "data": {
      "text/plain": [
       "age             28\n",
       "gender           2\n",
       "height         109\n",
       "weight         287\n",
       "ap_hi          153\n",
       "ap_lo          157\n",
       "cholesterol      3\n",
       "gluc             3\n",
       "smoke            2\n",
       "alco             2\n",
       "active           2\n",
       "cardio           2\n",
       "dtype: int64"
      ]
     },
     "metadata": {},
     "output_type": "display_data"
    }
   ],
   "source": [
    "# see unique data for each column\n",
    "\n",
    "df.nunique()\n",
    "\n",
    "# we can see all output are as expected"
   ]
  },
  {
   "attachments": {},
   "cell_type": "markdown",
   "metadata": {},
   "source": [
    "# 4.0 Data Cleaning"
   ]
  },
  {
   "attachments": {},
   "cell_type": "markdown",
   "metadata": {},
   "source": [
    "## 4.1 Dropping NaN and duplicates"
   ]
  },
  {
   "cell_type": "code",
   "execution_count": 6,
   "metadata": {},
   "outputs": [
    {
     "name": "stdout",
     "output_type": "stream",
     "text": [
      "id             0\n",
      "age            0\n",
      "gender         0\n",
      "height         2\n",
      "weight         1\n",
      "ap_hi          0\n",
      "ap_lo          0\n",
      "cholesterol    2\n",
      "gluc           0\n",
      "smoke          0\n",
      "alco           1\n",
      "active         0\n",
      "cardio         0\n",
      "dtype: int64\n"
     ]
    }
   ],
   "source": [
    "#drop NaN\n",
    "missing_data = df.isna().sum() # checking sum of NaN for each column\n",
    "print(missing_data)\n",
    "df = df.dropna()\n",
    "# detect duplicate and drop it\n",
    "df.drop_duplicates(inplace= True)"
   ]
  },
  {
   "attachments": {},
   "cell_type": "markdown",
   "metadata": {},
   "source": [
    "## 4.2 Dropping unnecessary columns"
   ]
  },
  {
   "cell_type": "code",
   "execution_count": 7,
   "metadata": {},
   "outputs": [],
   "source": [
    "# dropping id\n",
    "# does not contribute anything meaningful\n",
    "df= df.drop('id', axis= 1)"
   ]
  },
  {
   "attachments": {},
   "cell_type": "markdown",
   "metadata": {},
   "source": [
    "# 5.0 Feature Engineering"
   ]
  },
  {
   "attachments": {},
   "cell_type": "markdown",
   "metadata": {},
   "source": [
    "## 5.1 Age from days to years"
   ]
  },
  {
   "cell_type": "code",
   "execution_count": 8,
   "metadata": {},
   "outputs": [],
   "source": [
    "\n",
    "# to make the data more readable and meaningful\n",
    "df['age'] = df['age'] // 365.25"
   ]
  },
  {
   "attachments": {},
   "cell_type": "markdown",
   "metadata": {},
   "source": [
    "## 5.2 Changing the data type for columns\n",
    "\n",
    "After checking the data type of each column, we can see some of it does not follow the 2.1 Variable Description. Therefore, we need to change it."
   ]
  },
  {
   "cell_type": "code",
   "execution_count": 9,
   "metadata": {},
   "outputs": [
    {
     "name": "stdout",
     "output_type": "stream",
     "text": [
      "<class 'pandas.core.frame.DataFrame'>\n",
      "Int64Index: 69994 entries, 0 to 70002\n",
      "Data columns (total 12 columns):\n",
      " #   Column       Non-Null Count  Dtype  \n",
      "---  ------       --------------  -----  \n",
      " 0   age          69994 non-null  float64\n",
      " 1   gender       69994 non-null  int64  \n",
      " 2   height       69994 non-null  float64\n",
      " 3   weight       69994 non-null  float64\n",
      " 4   ap_hi        69994 non-null  int64  \n",
      " 5   ap_lo        69994 non-null  int64  \n",
      " 6   cholesterol  69994 non-null  float64\n",
      " 7   gluc         69994 non-null  int64  \n",
      " 8   smoke        69994 non-null  int64  \n",
      " 9   alco         69994 non-null  float64\n",
      " 10  active       69994 non-null  int64  \n",
      " 11  cardio       69994 non-null  int64  \n",
      "dtypes: float64(5), int64(7)\n",
      "memory usage: 6.9 MB\n"
     ]
    }
   ],
   "source": [
    "df.info() #checking the type of each feature\n",
    "# need to be int --> age, height ,ap hi, ap lo\n",
    "# binary --> gender , cholestrol , glucose , smoking ,alco ,active, cardio(target)\n",
    "# float--> weight"
   ]
  },
  {
   "cell_type": "code",
   "execution_count": 10,
   "metadata": {},
   "outputs": [],
   "source": [
    "#changing data type to its intended type\n",
    "df[['age','height', 'ap_hi', 'ap_lo']]=df[['age','height', 'ap_hi', 'ap_lo']].astype(int)\n"
   ]
  },
  {
   "cell_type": "code",
   "execution_count": 11,
   "metadata": {},
   "outputs": [
    {
     "name": "stdout",
     "output_type": "stream",
     "text": [
      "<class 'pandas.core.frame.DataFrame'>\n",
      "Int64Index: 69994 entries, 0 to 70002\n",
      "Data columns (total 12 columns):\n",
      " #   Column       Non-Null Count  Dtype  \n",
      "---  ------       --------------  -----  \n",
      " 0   age          69994 non-null  int64  \n",
      " 1   gender       69994 non-null  int64  \n",
      " 2   height       69994 non-null  int64  \n",
      " 3   weight       69994 non-null  float64\n",
      " 4   ap_hi        69994 non-null  int64  \n",
      " 5   ap_lo        69994 non-null  int64  \n",
      " 6   cholesterol  69994 non-null  float64\n",
      " 7   gluc         69994 non-null  int64  \n",
      " 8   smoke        69994 non-null  int64  \n",
      " 9   alco         69994 non-null  float64\n",
      " 10  active       69994 non-null  int64  \n",
      " 11  cardio       69994 non-null  int64  \n",
      "dtypes: float64(3), int64(9)\n",
      "memory usage: 6.9 MB\n"
     ]
    }
   ],
   "source": [
    "df.info() # check the changes"
   ]
  },
  {
   "attachments": {},
   "cell_type": "markdown",
   "metadata": {},
   "source": [
    "## 5.3 Adding BMI columns"
   ]
  },
  {
   "cell_type": "code",
   "execution_count": null,
   "metadata": {},
   "outputs": [],
   "source": [
    "\n",
    "# add bmi column\n",
    "df[\"bmi\"] = df[\"weight\"] / (df[\"height\"]/100)**2\n"
   ]
  },
  {
   "attachments": {},
   "cell_type": "markdown",
   "metadata": {},
   "source": [
    "# 6.0 Data Preprocessing"
   ]
  },
  {
   "attachments": {},
   "cell_type": "markdown",
   "metadata": {},
   "source": [
    "## 6.1 Filter out the outliers for weight and height using IQR"
   ]
  },
  {
   "cell_type": "code",
   "execution_count": 13,
   "metadata": {},
   "outputs": [],
   "source": [
    "# Filter out outliers for weight using IQR\n",
    "\n",
    "Q1 = df['weight'].quantile(0.25)\n",
    "Q3 = df['weight'].quantile(0.75)\n",
    "IQR = Q3 - Q1\n",
    "\n",
    "\n",
    "df = df[~((df['weight'] < (Q1 - 1.5 * IQR)) | (df['weight'] > (Q3 + 1.5 * IQR)))]\n"
   ]
  },
  {
   "cell_type": "code",
   "execution_count": 14,
   "metadata": {},
   "outputs": [],
   "source": [
    "# Filter out outliers for height using IQR\n",
    "\n",
    "Q1 = df['height'].quantile(0.25)\n",
    "Q3 = df['height'].quantile(0.75)\n",
    "IQR = Q3 - Q1\n",
    "\n",
    "# filter out outliers for height\n",
    "df = df[~((df['height'] < (Q1 - 1.5 * IQR)) | (df['height'] > (Q3 + 1.5 * IQR)))]\n"
   ]
  },
  {
   "attachments": {},
   "cell_type": "markdown",
   "metadata": {},
   "source": [
    "## 6.2 Filtering ap_hi and ap_lo values\n",
    "\n",
    "As some of it seems illogical such as negative values."
   ]
  },
  {
   "cell_type": "code",
   "execution_count": 16,
   "metadata": {},
   "outputs": [],
   "source": [
    "df['ap_hi'] = np.where(df['ap_hi'] > 250, 250, np.where(df['ap_hi'] < 0, 0, df['ap_hi']))\n",
    "df['ap_lo'] = np.where(df['ap_lo'] > 200, 200, np.where(df['ap_lo'] < 0, 0, df['ap_lo']))\n"
   ]
  },
  {
   "attachments": {},
   "cell_type": "markdown",
   "metadata": {},
   "source": [
    "## 6.3 Finding the correlation and correlation between features and target\n",
    "\n",
    "by the help of Cramers Function"
   ]
  },
  {
   "cell_type": "code",
   "execution_count": 17,
   "metadata": {},
   "outputs": [],
   "source": [
    "#Cramers Function\n",
    "\n",
    "def cramers_corrected_stat(confusion_matrix):\n",
    "\n",
    "    \"\"\" calculate Cramers V statistic for categorial-categorial association.\n",
    "\n",
    "        uses correction from Bergsma and Wicher,\n",
    "\n",
    "        Journal of the Korean Statistical Society 42 (2013): 323-328\n",
    "\n",
    "    \"\"\"\n",
    "\n",
    "    chi2 = ss.chi2_contingency(confusion_matrix)[0]\n",
    "\n",
    "    n = confusion_matrix.sum()\n",
    "\n",
    "    phi2 = chi2/n\n",
    "\n",
    "    r,k = confusion_matrix.shape\n",
    "\n",
    "    phi2corr = max(0, phi2 - ((k-1)*(r-1))/(n-1))  \n",
    "\n",
    "    rcorr = r - ((r-1)**2)/(n-1)\n",
    "\n",
    "    kcorr = k - ((k-1)**2)/(n-1)\n",
    "\n",
    "    return np.sqrt(phi2corr / min( (kcorr-1), (rcorr-1)))"
   ]
  },
  {
   "attachments": {},
   "cell_type": "markdown",
   "metadata": {},
   "source": [
    "### Seperating Categorical data and non-categorical data"
   ]
  },
  {
   "cell_type": "code",
   "execution_count": 18,
   "metadata": {},
   "outputs": [
    {
     "name": "stdout",
     "output_type": "stream",
     "text": [
      "Index(['gender', 'cholesterol', 'gluc', 'smoke', 'alco', 'active', 'cardio'], dtype='object')\n"
     ]
    }
   ],
   "source": [
    "\n",
    "con = ['age','height','weight','ap_hi','ap_lo','bmi']\n",
    "cat = df.drop(labels=con ,axis =1).columns\n",
    "print(cat)\n"
   ]
  },
  {
   "attachments": {},
   "cell_type": "markdown",
   "metadata": {},
   "source": [
    "### Finding correlation between categorical data"
   ]
  },
  {
   "cell_type": "code",
   "execution_count": 19,
   "metadata": {},
   "outputs": [
    {
     "name": "stdout",
     "output_type": "stream",
     "text": [
      "gender\n",
      "0.0040762043182225845\n",
      "cholesterol\n",
      "0.22006494284026973\n",
      "gluc\n",
      "0.09040216672736333\n",
      "smoke\n",
      "0.01823533517557269\n",
      "alco\n",
      "0.007841375914495016\n",
      "active\n",
      "0.03560770181717081\n",
      "cardio\n",
      "0.9999704614028138\n"
     ]
    }
   ],
   "source": [
    "# correlation of cat- cat data\n",
    "\n",
    "for i in cat:\n",
    "    print(i)\n",
    "    matrix = pd.crosstab(df[i],df['cardio']).to_numpy()\n",
    "    print(cramers_corrected_stat(matrix))"
   ]
  },
  {
   "cell_type": "code",
   "execution_count": 20,
   "metadata": {},
   "outputs": [
    {
     "data": {
      "image/png": "[encoded data removed]",
      "text/plain": [
       "<Figure size 640x480 with 1 Axes>"
      ]
     },
     "metadata": {},
     "output_type": "display_data"
    },
    {
     "data": {
      "image/png": "[encoded data removed]",
      "text/plain": [
       "<Figure size 640x480 with 1 Axes>"
      ]
     },
     "metadata": {},
     "output_type": "display_data"
    },
    {
     "data": {
      "image/png": "[encoded data removed]",
      "text/plain": [
       "<Figure size 640x480 with 1 Axes>"
      ]
     },
     "metadata": {},
     "output_type": "display_data"
    },
    {
     "data": {
      "image/png": "[encoded data removed]",
      "text/plain": [
       "<Figure size 640x480 with 1 Axes>"
      ]
     },
     "metadata": {},
     "output_type": "display_data"
    },
    {
     "data": {
      "image/png": "[encoded data removed]",
      "text/plain": [
       "<Figure size 640x480 with 1 Axes>"
      ]
     },
     "metadata": {},
     "output_type": "display_data"
    },
    {
     "data": {
      "image/png": "[encoded data removed]",
      "text/plain": [
       "<Figure size 640x480 with 1 Axes>"
      ]
     },
     "metadata": {},
     "output_type": "display_data"
    },
    {
     "data": {
      "image/png": "[encoded data removed]",
      "text/plain": [
       "<Figure size 640x480 with 1 Axes>"
      ]
     },
     "metadata": {},
     "output_type": "display_data"
    }
   ],
   "source": [
    "for i in cat:\n",
    "    plt.figure()\n",
    "    sns.countplot(x =i,data = df)\n",
    "    plt.show()"
   ]
  },
  {
   "attachments": {},
   "cell_type": "markdown",
   "metadata": {},
   "source": [
    "### Finding coefficient of continuous data"
   ]
  },
  {
   "cell_type": "code",
   "execution_count": 21,
   "metadata": {},
   "outputs": [
    {
     "name": "stdout",
     "output_type": "stream",
     "text": [
      "age\n"
     ]
    },
    {
     "data": {
      "text/plain": [
       "0.5978853168332915"
      ]
     },
     "metadata": {},
     "output_type": "display_data"
    },
    {
     "name": "stdout",
     "output_type": "stream",
     "text": [
      "height\n"
     ]
    },
    {
     "data": {
      "text/plain": [
       "0.5107137055687642"
      ]
     },
     "metadata": {},
     "output_type": "display_data"
    },
    {
     "name": "stdout",
     "output_type": "stream",
     "text": [
      "weight\n"
     ]
    },
    {
     "data": {
      "text/plain": [
       "0.5738883884401258"
      ]
     },
     "metadata": {},
     "output_type": "display_data"
    },
    {
     "name": "stdout",
     "output_type": "stream",
     "text": [
      "ap_hi\n"
     ]
    },
    {
     "data": {
      "text/plain": [
       "0.713882776850717"
      ]
     },
     "metadata": {},
     "output_type": "display_data"
    },
    {
     "name": "stdout",
     "output_type": "stream",
     "text": [
      "ap_lo\n"
     ]
    },
    {
     "data": {
      "text/plain": [
       "0.6623152236513726"
      ]
     },
     "metadata": {},
     "output_type": "display_data"
    },
    {
     "name": "stdout",
     "output_type": "stream",
     "text": [
      "bmi\n"
     ]
    },
    {
     "data": {
      "text/plain": [
       "0.5804598549847158"
      ]
     },
     "metadata": {},
     "output_type": "display_data"
    }
   ],
   "source": [
    "#coefficient of continuous data\n",
    "\n",
    "for i in con:\n",
    "    print(i)\n",
    "    lr = LogisticRegression()\n",
    "    lr.fit(np.expand_dims(df[i], axis =1), df['cardio'])\n",
    "    display(lr.score(np.expand_dims(df[i],axis =1), df['cardio']))"
   ]
  },
  {
   "attachments": {},
   "cell_type": "markdown",
   "metadata": {},
   "source": [
    "### Finding the correlation of coefficient between continuous data"
   ]
  },
  {
   "cell_type": "code",
   "execution_count": 22,
   "metadata": {},
   "outputs": [
    {
     "data": {
      "text/html": [
       "<div>\n",
       "<style scoped>\n",
       "    .dataframe tbody tr th:only-of-type {\n",
       "        vertical-align: middle;\n",
       "    }\n",
       "\n",
       "    .dataframe tbody tr th {\n",
       "        vertical-align: top;\n",
       "    }\n",
       "\n",
       "    .dataframe thead th {\n",
       "        text-align: right;\n",
       "    }\n",
       "</style>\n",
       "<table border=\"1\" class=\"dataframe\">\n",
       "  <thead>\n",
       "    <tr style=\"text-align: right;\">\n",
       "      <th></th>\n",
       "      <th>age</th>\n",
       "      <th>height</th>\n",
       "      <th>weight</th>\n",
       "      <th>ap_hi</th>\n",
       "      <th>ap_lo</th>\n",
       "      <th>bmi</th>\n",
       "      <th>cardio</th>\n",
       "    </tr>\n",
       "  </thead>\n",
       "  <tbody>\n",
       "    <tr>\n",
       "      <th>age</th>\n",
       "      <td>1.000000</td>\n",
       "      <td>-0.086356</td>\n",
       "      <td>0.067943</td>\n",
       "      <td>0.196217</td>\n",
       "      <td>0.106074</td>\n",
       "      <td>0.118172</td>\n",
       "      <td>0.241804</td>\n",
       "    </tr>\n",
       "    <tr>\n",
       "      <th>height</th>\n",
       "      <td>-0.086356</td>\n",
       "      <td>1.000000</td>\n",
       "      <td>0.310007</td>\n",
       "      <td>0.004971</td>\n",
       "      <td>0.011872</td>\n",
       "      <td>-0.238353</td>\n",
       "      <td>-0.019080</td>\n",
       "    </tr>\n",
       "    <tr>\n",
       "      <th>weight</th>\n",
       "      <td>0.067943</td>\n",
       "      <td>0.310007</td>\n",
       "      <td>1.000000</td>\n",
       "      <td>0.236963</td>\n",
       "      <td>0.173782</td>\n",
       "      <td>0.845461</td>\n",
       "      <td>0.177642</td>\n",
       "    </tr>\n",
       "    <tr>\n",
       "      <th>ap_hi</th>\n",
       "      <td>0.196217</td>\n",
       "      <td>0.004971</td>\n",
       "      <td>0.236963</td>\n",
       "      <td>1.000000</td>\n",
       "      <td>0.500703</td>\n",
       "      <td>0.239056</td>\n",
       "      <td>0.400093</td>\n",
       "    </tr>\n",
       "    <tr>\n",
       "      <th>ap_lo</th>\n",
       "      <td>0.106074</td>\n",
       "      <td>0.011872</td>\n",
       "      <td>0.173782</td>\n",
       "      <td>0.500703</td>\n",
       "      <td>1.000000</td>\n",
       "      <td>0.170560</td>\n",
       "      <td>0.254848</td>\n",
       "    </tr>\n",
       "    <tr>\n",
       "      <th>bmi</th>\n",
       "      <td>0.118172</td>\n",
       "      <td>-0.238353</td>\n",
       "      <td>0.845461</td>\n",
       "      <td>0.239056</td>\n",
       "      <td>0.170560</td>\n",
       "      <td>1.000000</td>\n",
       "      <td>0.191194</td>\n",
       "    </tr>\n",
       "    <tr>\n",
       "      <th>cardio</th>\n",
       "      <td>0.241804</td>\n",
       "      <td>-0.019080</td>\n",
       "      <td>0.177642</td>\n",
       "      <td>0.400093</td>\n",
       "      <td>0.254848</td>\n",
       "      <td>0.191194</td>\n",
       "      <td>1.000000</td>\n",
       "    </tr>\n",
       "  </tbody>\n",
       "</table>\n",
       "</div>"
      ],
      "text/plain": [
       "             age    height    weight     ap_hi     ap_lo       bmi    cardio\n",
       "age     1.000000 -0.086356  0.067943  0.196217  0.106074  0.118172  0.241804\n",
       "height -0.086356  1.000000  0.310007  0.004971  0.011872 -0.238353 -0.019080\n",
       "weight  0.067943  0.310007  1.000000  0.236963  0.173782  0.845461  0.177642\n",
       "ap_hi   0.196217  0.004971  0.236963  1.000000  0.500703  0.239056  0.400093\n",
       "ap_lo   0.106074  0.011872  0.173782  0.500703  1.000000  0.170560  0.254848\n",
       "bmi     0.118172 -0.238353  0.845461  0.239056  0.170560  1.000000  0.191194\n",
       "cardio  0.241804 -0.019080  0.177642  0.400093  0.254848  0.191194  1.000000"
      ]
     },
     "metadata": {},
     "output_type": "display_data"
    }
   ],
   "source": [
    "#correlation of coefficient between continuous data\n",
    "\n",
    "df_con = df.loc[:, ['age','height','weight','ap_hi','ap_lo','bmi', 'cardio']]\n",
    "corr = df_con.corr()\n",
    "display(corr)"
   ]
  },
  {
   "cell_type": "code",
   "execution_count": 23,
   "metadata": {},
   "outputs": [
    {
     "data": {
      "text/plain": [
       "height   -0.019080\n",
       "weight    0.177642\n",
       "bmi       0.191194\n",
       "age       0.241804\n",
       "ap_lo     0.254848\n",
       "ap_hi     0.400093\n",
       "cardio    1.000000\n",
       "Name: cardio, dtype: float64"
      ]
     },
     "execution_count": 23,
     "metadata": {},
     "output_type": "execute_result"
    }
   ],
   "source": [
    "df_con.corr()['cardio'].sort_values()"
   ]
  },
  {
   "cell_type": "code",
   "execution_count": 24,
   "metadata": {},
   "outputs": [
    {
     "data": {
      "image/png": "[encoded data removed]",
      "text/plain": [
       "<Figure size 500x500 with 2 Axes>"
      ]
     },
     "metadata": {},
     "output_type": "display_data"
    }
   ],
   "source": [
    "# correlation map(heatmap)\n",
    "\n",
    "plt.figure(figsize=(5,5))\n",
    "sns.heatmap(corr, cmap= 'Reds', annot = True, square = True, fmt= '.1f')\n",
    "plt.show()"
   ]
  },
  {
   "attachments": {},
   "cell_type": "markdown",
   "metadata": {},
   "source": [
    "# 7.0 Model Selection"
   ]
  },
  {
   "attachments": {},
   "cell_type": "markdown",
   "metadata": {},
   "source": [
    "## 7.1 Feature selecting according to the correlation calculated\n",
    " \n",
    "and also seperating target variable from the data"
   ]
  },
  {
   "cell_type": "code",
   "execution_count": 25,
   "metadata": {},
   "outputs": [],
   "source": [
    "# selecting feature according to correlation and coefficient\n",
    "# dropping columns with < 0.01\n",
    "X = df.drop(['cardio', 'gender', 'alco'],axis =1)\n",
    "y = df['cardio']\n"
   ]
  },
  {
   "attachments": {},
   "cell_type": "markdown",
   "metadata": {},
   "source": [
    "## 7.2 Splitting the data using the train_test_split function\n",
    "\n",
    "where random_state is 42 , test_size is 0.3"
   ]
  },
  {
   "cell_type": "code",
   "execution_count": 26,
   "metadata": {},
   "outputs": [],
   "source": [
    "# train_test_split using random_state 42 as agreed\n",
    "\n",
    "X_train, X_test, y_train, y_test = train_test_split(X, y, test_size= 0.3, random_state= 42, stratify= y)"
   ]
  },
  {
   "attachments": {},
   "cell_type": "markdown",
   "metadata": {},
   "source": [
    "## 7.3 Model Development\n",
    "\n",
    "Making pipeline for most of the method for binary classification and storing it in a list"
   ]
  },
  {
   "cell_type": "code",
   "execution_count": 27,
   "metadata": {},
   "outputs": [],
   "source": [
    "\n",
    "pipeline_mms_lr = Pipeline([\n",
    "    ('min_max_scaler', MinMaxScaler()),\n",
    "    ('logistic_regression', LogisticRegression())\n",
    "])\n",
    "\n",
    "pipeline_ss_lr = Pipeline([\n",
    "    ('standard_scaler', StandardScaler()),\n",
    "    ('logistic_regression', LogisticRegression())\n",
    "])\n",
    "\n",
    "pipeline_gbc_ss = Pipeline([\n",
    "    ('standard_scaler', StandardScaler()),\n",
    "    ('gradient_boosting_class', GradientBoostingClassifier())\n",
    "])\n",
    "\n",
    "pipeline_gbc_mms = Pipeline([\n",
    "    ('min_max_scaler', MinMaxScaler()),\n",
    "    ('gradient_boosting_class', GradientBoostingClassifier())\n",
    "])\n",
    "\n",
    "pipeline_svc_mms = Pipeline([\n",
    "    ('min_max_scaler', MinMaxScaler()),\n",
    "    ('svc', SVC())\n",
    "])\n",
    "\n",
    "\n",
    "pipeline_svc_ss = Pipeline([\n",
    "    ('standard_scaler', StandardScaler()),\n",
    "    ('svc', SVC())\n",
    "])\n",
    "\n",
    "pipeline_rfc_ss = Pipeline([\n",
    "    ('standard_scaler', StandardScaler()),\n",
    "    ('rfc', RandomForestClassifier())\n",
    "])\n",
    "pipeline_rfc_mms = Pipeline([\n",
    "    ('min_max_scaler', MinMaxScaler()),\n",
    "    ('rfc', RandomForestClassifier())\n",
    "])\n",
    "\n",
    "pipeline_tree_ss = Pipeline([\n",
    "    ('standard_scaler', StandardScaler()),\n",
    "    ('tree', DecisionTreeClassifier())\n",
    "])"
   ]
  },
  {
   "cell_type": "code",
   "execution_count": 28,
   "metadata": {},
   "outputs": [],
   "source": [
    "# store pipeline in list\n",
    "\n",
    "pipelines = [pipeline_ss_lr, pipeline_mms_lr,\n",
    "            pipeline_gbc_ss, pipeline_gbc_mms,\n",
    "            pipeline_svc_ss, pipeline_svc_mms,\n",
    "            pipeline_rfc_ss, pipeline_rfc_mms]\n",
    "            "
   ]
  },
  {
   "attachments": {},
   "cell_type": "markdown",
   "metadata": {},
   "source": [
    "# 8.0 Model Training\n",
    "\n",
    "This can take some times as the data we using is very big"
   ]
  },
  {
   "cell_type": "code",
   "execution_count": 29,
   "metadata": {},
   "outputs": [],
   "source": [
    "# train the pipelines(~ 8 min)\n",
    "\n",
    "for pipe in pipelines:\n",
    "    pipe.fit(X_train, y_train)"
   ]
  },
  {
   "attachments": {},
   "cell_type": "markdown",
   "metadata": {},
   "source": [
    "# 9.0 Model evaluation\n",
    "\n",
    "storing all pipeline score in a dictionary"
   ]
  },
  {
   "cell_type": "code",
   "execution_count": 30,
   "metadata": {},
   "outputs": [],
   "source": [
    "\n",
    "\n",
    "pipe_dict= {}\n",
    "best_score = 0\n",
    "\n",
    "model_name = ['ss + logreg', 'mms + logreg',\n",
    "            'ss + gb', 'mms + gb',\n",
    "            'ss + svc', 'mms + svc',\n",
    "            'ss + rfc', 'mms + rfc']"
   ]
  },
  {
   "attachments": {},
   "cell_type": "markdown",
   "metadata": {},
   "source": [
    "## 9.1 Fitting the data into all pipeline and display the best of all\n",
    "\n",
    "This will take some time depending on the data size and computational power"
   ]
  },
  {
   "cell_type": "code",
   "execution_count": 31,
   "metadata": {},
   "outputs": [
    {
     "name": "stdout",
     "output_type": "stream",
     "text": [
      "The best model for heart attact prediction is ss + gb with the accuracy of 0.7414353219137626\n"
     ]
    }
   ],
   "source": [
    " ##Fit the data (~5 min)\n",
    "\n",
    "for i, model in enumerate(pipelines):\n",
    "    y_pred = model.predict(X_test)\n",
    "\n",
    "    pipe_dict[model_name[i]]= [accuracy_score(y_test,y_pred),\n",
    "                                f1_score(y_test,y_pred, average= 'weighted')]\n",
    "    \n",
    "    if model.score(X_test , y_test) > best_score:\n",
    "        best_score = model.score(X_test , y_test)\n",
    "        best_pipe = model_name[i]\n",
    "\n",
    "print(\"The best model for heart attact prediction is {} with the accuracy of {}\".format(best_pipe, best_score))\n",
    "# printing the best model and its accuracy score"
   ]
  },
  {
   "attachments": {},
   "cell_type": "markdown",
   "metadata": {},
   "source": [
    "## 9.2 Tabulate the accuracy and the F1 score of each pipeline"
   ]
  },
  {
   "cell_type": "code",
   "execution_count": 32,
   "metadata": {},
   "outputs": [
    {
     "data": {
      "text/html": [
       "<style type=\"text/css\">\n",
       "#T_27e1d_row0_col0, #T_27e1d_row0_col1, #T_27e1d_row1_col0, #T_27e1d_row1_col1 {\n",
       "  background-color: #004529;\n",
       "  color: #f1f1f1;\n",
       "}\n",
       "#T_27e1d_row2_col0 {\n",
       "  background-color: #00542f;\n",
       "  color: #f1f1f1;\n",
       "}\n",
       "#T_27e1d_row2_col1 {\n",
       "  background-color: #005a31;\n",
       "  color: #f1f1f1;\n",
       "}\n",
       "#T_27e1d_row3_col0 {\n",
       "  background-color: #006435;\n",
       "  color: #f1f1f1;\n",
       "}\n",
       "#T_27e1d_row3_col1 {\n",
       "  background-color: #006737;\n",
       "  color: #f1f1f1;\n",
       "}\n",
       "#T_27e1d_row4_col0 {\n",
       "  background-color: #14783e;\n",
       "  color: #f1f1f1;\n",
       "}\n",
       "#T_27e1d_row4_col1, #T_27e1d_row5_col1 {\n",
       "  background-color: #177b3f;\n",
       "  color: #f1f1f1;\n",
       "}\n",
       "#T_27e1d_row5_col0 {\n",
       "  background-color: #15793e;\n",
       "  color: #f1f1f1;\n",
       "}\n",
       "#T_27e1d_row6_col0, #T_27e1d_row6_col1 {\n",
       "  background-color: #feffe1;\n",
       "  color: #000000;\n",
       "}\n",
       "#T_27e1d_row7_col0, #T_27e1d_row7_col1 {\n",
       "  background-color: #ffffe5;\n",
       "  color: #000000;\n",
       "}\n",
       "</style>\n",
       "<table id=\"T_27e1d\">\n",
       "  <thead>\n",
       "    <tr>\n",
       "      <th class=\"blank level0\" >&nbsp;</th>\n",
       "      <th id=\"T_27e1d_level0_col0\" class=\"col_heading level0 col0\" >Accuracy</th>\n",
       "      <th id=\"T_27e1d_level0_col1\" class=\"col_heading level0 col1\" >F1 score</th>\n",
       "    </tr>\n",
       "  </thead>\n",
       "  <tbody>\n",
       "    <tr>\n",
       "      <th id=\"T_27e1d_level0_row0\" class=\"row_heading level0 row0\" >ss + gb</th>\n",
       "      <td id=\"T_27e1d_row0_col0\" class=\"data row0 col0\" >0.741435</td>\n",
       "      <td id=\"T_27e1d_row0_col1\" class=\"data row0 col1\" >0.741096</td>\n",
       "    </tr>\n",
       "    <tr>\n",
       "      <th id=\"T_27e1d_level0_row1\" class=\"row_heading level0 row1\" >mms + gb</th>\n",
       "      <td id=\"T_27e1d_row1_col0\" class=\"data row1 col0\" >0.741435</td>\n",
       "      <td id=\"T_27e1d_row1_col1\" class=\"data row1 col1\" >0.741096</td>\n",
       "    </tr>\n",
       "    <tr>\n",
       "      <th id=\"T_27e1d_level0_row2\" class=\"row_heading level0 row2\" >ss + svc</th>\n",
       "      <td id=\"T_27e1d_row2_col0\" class=\"data row2 col0\" >0.739614</td>\n",
       "      <td id=\"T_27e1d_row2_col1\" class=\"data row2 col1\" >0.738644</td>\n",
       "    </tr>\n",
       "    <tr>\n",
       "      <th id=\"T_27e1d_level0_row3\" class=\"row_heading level0 row3\" >mms + svc</th>\n",
       "      <td id=\"T_27e1d_row3_col0\" class=\"data row3 col0\" >0.737842</td>\n",
       "      <td id=\"T_27e1d_row3_col1\" class=\"data row3 col1\" >0.737218</td>\n",
       "    </tr>\n",
       "    <tr>\n",
       "      <th id=\"T_27e1d_level0_row4\" class=\"row_heading level0 row4\" >ss + logreg</th>\n",
       "      <td id=\"T_27e1d_row4_col0\" class=\"data row4 col0\" >0.735184</td>\n",
       "      <td id=\"T_27e1d_row4_col1\" class=\"data row4 col1\" >0.734569</td>\n",
       "    </tr>\n",
       "    <tr>\n",
       "      <th id=\"T_27e1d_level0_row5\" class=\"row_heading level0 row5\" >mms + logreg</th>\n",
       "      <td id=\"T_27e1d_row5_col0\" class=\"data row5 col0\" >0.735086</td>\n",
       "      <td id=\"T_27e1d_row5_col1\" class=\"data row5 col1\" >0.734503</td>\n",
       "    </tr>\n",
       "    <tr>\n",
       "      <th id=\"T_27e1d_level0_row6\" class=\"row_heading level0 row6\" >ss + rfc</th>\n",
       "      <td id=\"T_27e1d_row6_col0\" class=\"data row6 col0\" >0.710032</td>\n",
       "      <td id=\"T_27e1d_row6_col1\" class=\"data row6 col1\" >0.710038</td>\n",
       "    </tr>\n",
       "    <tr>\n",
       "      <th id=\"T_27e1d_level0_row7\" class=\"row_heading level0 row7\" >mms + rfc</th>\n",
       "      <td id=\"T_27e1d_row7_col0\" class=\"data row7 col0\" >0.709589</td>\n",
       "      <td id=\"T_27e1d_row7_col1\" class=\"data row7 col1\" >0.709592</td>\n",
       "    </tr>\n",
       "  </tbody>\n",
       "</table>\n"
      ],
      "text/plain": [
       "<pandas.io.formats.style.Styler at 0x7fa985351790>"
      ]
     },
     "execution_count": 32,
     "metadata": {},
     "output_type": "execute_result"
    }
   ],
   "source": [
    "\n",
    "\n",
    "model_comp_df = pd.DataFrame.from_dict(pipe_dict).T\n",
    "model_comp_df.columns= ['Accuracy','F1 score']\n",
    "model_comp_df = model_comp_df.sort_values('Accuracy', ascending= False)\n",
    "model_comp_df.style.background_gradient(cmap = 'YlGn')"
   ]
  },
  {
   "cell_type": "code",
   "execution_count": 33,
   "metadata": {},
   "outputs": [],
   "source": [
    "# could be the same, you could read the test file, separate the test data to test_data_X, test_y\n",
    "# use your best model to y_pred_test = grid.predict(test_data_X)"
   ]
  },
  {
   "attachments": {},
   "cell_type": "markdown",
   "metadata": {},
   "source": [
    "# 10.0 Tuning the hyperparams of the best pipeline \n",
    "\n",
    "which in time of running StandardScaler + GradientBoosting by using GridSearchCV / RandomizedSearchCV\n",
    "\n",
    "This will take some time depending on the data size and computational power\n",
    "\n",
    "The pipeline is as following:-"
   ]
  },
  {
   "cell_type": "code",
   "execution_count": 34,
   "metadata": {},
   "outputs": [],
   "source": [
    "# pipeline_gbc_ss = Pipeline([\n",
    "#     ('standard_scaler', StandardScaler()),\n",
    "#     ('gradient_boosting_class', GradientBoostingClassifier())\n",
    "# ])\n"
   ]
  },
  {
   "attachments": {},
   "cell_type": "markdown",
   "metadata": {},
   "source": [
    "## 10.1 List of all the hyper_params of the pipeline"
   ]
  },
  {
   "cell_type": "code",
   "execution_count": 35,
   "metadata": {},
   "outputs": [
    {
     "data": {
      "text/plain": [
       "dict_keys(['memory', 'steps', 'verbose', 'standard_scaler', 'gradient_boosting_class', 'standard_scaler__copy', 'standard_scaler__with_mean', 'standard_scaler__with_std', 'gradient_boosting_class__ccp_alpha', 'gradient_boosting_class__criterion', 'gradient_boosting_class__init', 'gradient_boosting_class__learning_rate', 'gradient_boosting_class__loss', 'gradient_boosting_class__max_depth', 'gradient_boosting_class__max_features', 'gradient_boosting_class__max_leaf_nodes', 'gradient_boosting_class__min_impurity_decrease', 'gradient_boosting_class__min_samples_leaf', 'gradient_boosting_class__min_samples_split', 'gradient_boosting_class__min_weight_fraction_leaf', 'gradient_boosting_class__n_estimators', 'gradient_boosting_class__n_iter_no_change', 'gradient_boosting_class__random_state', 'gradient_boosting_class__subsample', 'gradient_boosting_class__tol', 'gradient_boosting_class__validation_fraction', 'gradient_boosting_class__verbose', 'gradient_boosting_class__warm_start'])"
      ]
     },
     "execution_count": 35,
     "metadata": {},
     "output_type": "execute_result"
    }
   ],
   "source": [
    "# getting all list of hyper_params for the pipeline\n",
    "pipeline_gbc_ss.get_params().keys()"
   ]
  },
  {
   "attachments": {},
   "cell_type": "markdown",
   "metadata": {},
   "source": [
    "## 10.2 Choosing the hyper_params to tune\n",
    "\n",
    "Code for both GridSearchCV and RandomizedSearchCV are provided , but the output are based on the RandomizedSearchCV, as the data is quite big so RandomizedSearchCV is typically faster while sacrifing some accuracy."
   ]
  },
  {
   "cell_type": "code",
   "execution_count": 36,
   "metadata": {},
   "outputs": [],
   "source": [
    "# grid_param = [{\n",
    "#                 'gradient_boosting_class__learning_rate': [0.1 , 0.3 , 0.5],\n",
    "#                 'gradient_boosting_class__n_estimators': [100 , 500 , 1000],\n",
    "#                 'gradient_boosting_class__max_depth': [3, 5 , 7],\n",
    "#                 'gradient_boosting_class__min_samples_split': [2, 4, 6],\n",
    "#                 'gradient_boosting_class__min_samples_leaf' : [1, 3, 5],\n",
    "#                 'gradient_boosting_class__max_features' : [9 , 3.17 , 3] # (max, log2 , sqrt2)\n",
    "# }]\n",
    "# grid_search = GridSearchCV(pipeline_gbc_ss , grid_param, cv = 5 ,verbose= 1, n_jobs= -1)\n",
    "\n",
    "# grid = grid_search.fit(X_train, y_train)"
   ]
  },
  {
   "cell_type": "code",
   "execution_count": null,
   "metadata": {},
   "outputs": [],
   "source": [
    "# print(grid_search.score(X_test, y_test))\n",
    "# display(grid.best_params_)"
   ]
  },
  {
   "cell_type": "code",
   "execution_count": 52,
   "metadata": {},
   "outputs": [
    {
     "name": "stdout",
     "output_type": "stream",
     "text": [
      "Fitting 5 folds for each of 100 candidates, totalling 500 fits\n"
     ]
    }
   ],
   "source": [
    "\n",
    "# 9~15min\n",
    "grid_param = [{\n",
    "                'gradient_boosting_class__learning_rate': [0.1,0.2,0.3,0.4,0.5],\n",
    "                'gradient_boosting_class__n_estimators': [100 , 200 , 300],\n",
    "                'gradient_boosting_class__max_depth': [3, 4 , 5],\n",
    "                'gradient_boosting_class__min_samples_split': [2, 4, 6],\n",
    "                'gradient_boosting_class__min_samples_leaf' : [1, 3, 5],\n",
    "                'gradient_boosting_class__max_features' : [9 , 6 , 3] \n",
    "}]\n",
    "randomized_search = RandomizedSearchCV(pipeline_gbc_ss , grid_param, cv = 5 ,verbose= 1, n_jobs= -1,n_iter = 100)\n",
    "\n",
    "rando = randomized_search.fit(X_train, y_train)\n"
   ]
  },
  {
   "attachments": {},
   "cell_type": "markdown",
   "metadata": {},
   "source": [
    "## 10.3 Best score and the hyper_params used for it"
   ]
  },
  {
   "cell_type": "code",
   "execution_count": 53,
   "metadata": {},
   "outputs": [
    {
     "name": "stdout",
     "output_type": "stream",
     "text": [
      "0.7421736562315416\n"
     ]
    }
   ],
   "source": [
    "print(randomized_search.score(X_test, y_test))"
   ]
  },
  {
   "cell_type": "code",
   "execution_count": 54,
   "metadata": {},
   "outputs": [
    {
     "data": {
      "text/plain": [
       "{'gradient_boosting_class__n_estimators': 100,\n",
       " 'gradient_boosting_class__min_samples_split': 6,\n",
       " 'gradient_boosting_class__min_samples_leaf': 5,\n",
       " 'gradient_boosting_class__max_features': 9,\n",
       " 'gradient_boosting_class__max_depth': 4,\n",
       " 'gradient_boosting_class__learning_rate': 0.2}"
      ]
     },
     "metadata": {},
     "output_type": "display_data"
    }
   ],
   "source": [
    "display(rando.best_params_)"
   ]
  },
  {
   "attachments": {},
   "cell_type": "markdown",
   "metadata": {},
   "source": [
    "## 10.4 Confusion matrix and classification report for the best pipeline"
   ]
  },
  {
   "cell_type": "code",
   "execution_count": 55,
   "metadata": {},
   "outputs": [],
   "source": [
    "\n",
    "y_pred = rando.predict(X_test)\n",
    "\n",
    "labels = ['No CVD', 'CVD']\n",
    "cm =  confusion_matrix(y_test, y_pred)\n",
    "cr = classification_report(y_test, y_pred, target_names= labels)"
   ]
  },
  {
   "cell_type": "code",
   "execution_count": 56,
   "metadata": {},
   "outputs": [
    {
     "name": "stdout",
     "output_type": "stream",
     "text": [
      "              precision    recall  f1-score   support\n",
      "\n",
      "      No CVD       0.73      0.78      0.75     10268\n",
      "         CVD       0.76      0.71      0.73     10048\n",
      "\n",
      "    accuracy                           0.74     20316\n",
      "   macro avg       0.74      0.74      0.74     20316\n",
      "weighted avg       0.74      0.74      0.74     20316\n",
      "\n"
     ]
    }
   ],
   "source": [
    "print(cr)"
   ]
  },
  {
   "cell_type": "code",
   "execution_count": 57,
   "metadata": {},
   "outputs": [
    {
     "data": {
      "image/png": "[encoded data removed]",
      "text/plain": [
       "<Figure size 500x500 with 2 Axes>"
      ]
     },
     "metadata": {},
     "output_type": "display_data"
    }
   ],
   "source": [
    "\n",
    "disp = ConfusionMatrixDisplay(confusion_matrix=cm,display_labels= labels)\n",
    "disp.plot(cmap= \"YlGn\")\n",
    "plt.rcParams['figure.figsize']= [5,5]\n",
    "plt.show()"
   ]
  },
  {
   "attachments": {},
   "cell_type": "markdown",
   "metadata": {},
   "source": [
    "# 11.0 Model Saving"
   ]
  },
  {
   "cell_type": "code",
   "execution_count": 58,
   "metadata": {},
   "outputs": [],
   "source": [
    "## Model Saving\n",
    "\n",
    "\n",
    "MODEL_PATH = os.path.join(os.getcwd(),'model.pkl')\n",
    "# TEST_PATH\n",
    "\n",
    "with open(MODEL_PATH, 'wb')as file:\n",
    "    pickle.dump(rando.best_estimator_, file)"
   ]
  },
  {
   "cell_type": "markdown",
   "metadata": {},
   "source": [
    "# 12.0 Testing the model with another data set"
   ]
  },
  {
   "attachments": {},
   "cell_type": "markdown",
   "metadata": {},
   "source": [
    "## Loading the data"
   ]
  },
  {
   "cell_type": "code",
   "execution_count": 32,
   "metadata": {},
   "outputs": [
    {
     "data": {
      "text/html": [
       "<div>\n",
       "<style scoped>\n",
       "    .dataframe tbody tr th:only-of-type {\n",
       "        vertical-align: middle;\n",
       "    }\n",
       "\n",
       "    .dataframe tbody tr th {\n",
       "        vertical-align: top;\n",
       "    }\n",
       "\n",
       "    .dataframe thead th {\n",
       "        text-align: right;\n",
       "    }\n",
       "</style>\n",
       "<table border=\"1\" class=\"dataframe\">\n",
       "  <thead>\n",
       "    <tr style=\"text-align: right;\">\n",
       "      <th></th>\n",
       "      <th>id</th>\n",
       "      <th>age</th>\n",
       "      <th>gender</th>\n",
       "      <th>height</th>\n",
       "      <th>weight</th>\n",
       "      <th>ap_hi</th>\n",
       "      <th>ap_lo</th>\n",
       "      <th>cholesterol</th>\n",
       "      <th>gluc</th>\n",
       "      <th>smoke</th>\n",
       "      <th>alco</th>\n",
       "      <th>active</th>\n",
       "      <th>cardio</th>\n",
       "    </tr>\n",
       "  </thead>\n",
       "  <tbody>\n",
       "    <tr>\n",
       "      <th>0</th>\n",
       "      <td>1</td>\n",
       "      <td>14791</td>\n",
       "      <td>2</td>\n",
       "      <td>165</td>\n",
       "      <td>60.0</td>\n",
       "      <td>120</td>\n",
       "      <td>80</td>\n",
       "      <td>1</td>\n",
       "      <td>1</td>\n",
       "      <td>0</td>\n",
       "      <td>0</td>\n",
       "      <td>0</td>\n",
       "      <td>0</td>\n",
       "    </tr>\n",
       "    <tr>\n",
       "      <th>1</th>\n",
       "      <td>2</td>\n",
       "      <td>11817</td>\n",
       "      <td>1</td>\n",
       "      <td>159</td>\n",
       "      <td>77.0</td>\n",
       "      <td>111</td>\n",
       "      <td>68</td>\n",
       "      <td>1</td>\n",
       "      <td>1</td>\n",
       "      <td>0</td>\n",
       "      <td>0</td>\n",
       "      <td>1</td>\n",
       "      <td>0</td>\n",
       "    </tr>\n",
       "    <tr>\n",
       "      <th>2</th>\n",
       "      <td>3</td>\n",
       "      <td>14531</td>\n",
       "      <td>2</td>\n",
       "      <td>181</td>\n",
       "      <td>95.0</td>\n",
       "      <td>129</td>\n",
       "      <td>90</td>\n",
       "      <td>1</td>\n",
       "      <td>1</td>\n",
       "      <td>1</td>\n",
       "      <td>1</td>\n",
       "      <td>1</td>\n",
       "      <td>0</td>\n",
       "    </tr>\n",
       "    <tr>\n",
       "      <th>3</th>\n",
       "      <td>4</td>\n",
       "      <td>16782</td>\n",
       "      <td>2</td>\n",
       "      <td>172</td>\n",
       "      <td>112.0</td>\n",
       "      <td>120</td>\n",
       "      <td>80</td>\n",
       "      <td>1</td>\n",
       "      <td>1</td>\n",
       "      <td>0</td>\n",
       "      <td>0</td>\n",
       "      <td>0</td>\n",
       "      <td>1</td>\n",
       "    </tr>\n",
       "    <tr>\n",
       "      <th>4</th>\n",
       "      <td>5</td>\n",
       "      <td>21197</td>\n",
       "      <td>2</td>\n",
       "      <td>167</td>\n",
       "      <td>92.0</td>\n",
       "      <td>140</td>\n",
       "      <td>80</td>\n",
       "      <td>1</td>\n",
       "      <td>1</td>\n",
       "      <td>0</td>\n",
       "      <td>0</td>\n",
       "      <td>1</td>\n",
       "      <td>1</td>\n",
       "    </tr>\n",
       "  </tbody>\n",
       "</table>\n",
       "</div>"
      ],
      "text/plain": [
       "   id    age  gender  height  weight  ap_hi  ap_lo  cholesterol  gluc  smoke  \\\n",
       "0   1  14791       2     165    60.0    120     80            1     1      0   \n",
       "1   2  11817       1     159    77.0    111     68            1     1      0   \n",
       "2   3  14531       2     181    95.0    129     90            1     1      1   \n",
       "3   4  16782       2     172   112.0    120     80            1     1      0   \n",
       "4   5  21197       2     167    92.0    140     80            1     1      0   \n",
       "\n",
       "   alco  active  cardio  \n",
       "0     0       0       0  \n",
       "1     0       1       0  \n",
       "2     1       1       0  \n",
       "3     0       0       1  \n",
       "4     0       1       1  "
      ]
     },
     "execution_count": 32,
     "metadata": {},
     "output_type": "execute_result"
    }
   ],
   "source": [
    "test_df = pd.read_csv('test_set.csv', sep= \";\") # data seperated by ';'\n",
    "test_df.head()"
   ]
  },
  {
   "attachments": {},
   "cell_type": "markdown",
   "metadata": {},
   "source": [
    "## Model Selection"
   ]
  },
  {
   "cell_type": "code",
   "execution_count": 33,
   "metadata": {},
   "outputs": [],
   "source": [
    "X = test_df.drop(['cardio', 'gender', 'alco', 'id'],axis =1)\n",
    "y = test_df['cardio']\n",
    "\n",
    "X_train, X_test, y_train, y_test = train_test_split(X, y, test_size= 0.3, random_state= 42, stratify= y)"
   ]
  },
  {
   "attachments": {},
   "cell_type": "markdown",
   "metadata": {},
   "source": [
    "## Testing Using the best pipeline "
   ]
  },
  {
   "cell_type": "code",
   "execution_count": 31,
   "metadata": {},
   "outputs": [
    {
     "data": {
      "text/html": [
       "<style>#sk-container-id-9 {color: black;background-color: white;}#sk-container-id-9 pre{padding: 0;}#sk-container-id-9 div.sk-toggleable {background-color: white;}#sk-container-id-9 label.sk-toggleable__label {cursor: pointer;display: block;width: 100%;margin-bottom: 0;padding: 0.3em;box-sizing: border-box;text-align: center;}#sk-container-id-9 label.sk-toggleable__label-arrow:before {content: \"▸\";float: left;margin-right: 0.25em;color: #696969;}#sk-container-id-9 label.sk-toggleable__label-arrow:hover:before {color: black;}#sk-container-id-9 div.sk-estimator:hover label.sk-toggleable__label-arrow:before {color: black;}#sk-container-id-9 div.sk-toggleable__content {max-height: 0;max-width: 0;overflow: hidden;text-align: left;background-color: #f0f8ff;}#sk-container-id-9 div.sk-toggleable__content pre {margin: 0.2em;color: black;border-radius: 0.25em;background-color: #f0f8ff;}#sk-container-id-9 input.sk-toggleable__control:checked~div.sk-toggleable__content {max-height: 200px;max-width: 100%;overflow: auto;}#sk-container-id-9 input.sk-toggleable__control:checked~label.sk-toggleable__label-arrow:before {content: \"▾\";}#sk-container-id-9 div.sk-estimator input.sk-toggleable__control:checked~label.sk-toggleable__label {background-color: #d4ebff;}#sk-container-id-9 div.sk-label input.sk-toggleable__control:checked~label.sk-toggleable__label {background-color: #d4ebff;}#sk-container-id-9 input.sk-hidden--visually {border: 0;clip: rect(1px 1px 1px 1px);clip: rect(1px, 1px, 1px, 1px);height: 1px;margin: -1px;overflow: hidden;padding: 0;position: absolute;width: 1px;}#sk-container-id-9 div.sk-estimator {font-family: monospace;background-color: #f0f8ff;border: 1px dotted black;border-radius: 0.25em;box-sizing: border-box;margin-bottom: 0.5em;}#sk-container-id-9 div.sk-estimator:hover {background-color: #d4ebff;}#sk-container-id-9 div.sk-parallel-item::after {content: \"\";width: 100%;border-bottom: 1px solid gray;flex-grow: 1;}#sk-container-id-9 div.sk-label:hover label.sk-toggleable__label {background-color: #d4ebff;}#sk-container-id-9 div.sk-serial::before {content: \"\";position: absolute;border-left: 1px solid gray;box-sizing: border-box;top: 0;bottom: 0;left: 50%;z-index: 0;}#sk-container-id-9 div.sk-serial {display: flex;flex-direction: column;align-items: center;background-color: white;padding-right: 0.2em;padding-left: 0.2em;position: relative;}#sk-container-id-9 div.sk-item {position: relative;z-index: 1;}#sk-container-id-9 div.sk-parallel {display: flex;align-items: stretch;justify-content: center;background-color: white;position: relative;}#sk-container-id-9 div.sk-item::before, #sk-container-id-9 div.sk-parallel-item::before {content: \"\";position: absolute;border-left: 1px solid gray;box-sizing: border-box;top: 0;bottom: 0;left: 50%;z-index: -1;}#sk-container-id-9 div.sk-parallel-item {display: flex;flex-direction: column;z-index: 1;position: relative;background-color: white;}#sk-container-id-9 div.sk-parallel-item:first-child::after {align-self: flex-end;width: 50%;}#sk-container-id-9 div.sk-parallel-item:last-child::after {align-self: flex-start;width: 50%;}#sk-container-id-9 div.sk-parallel-item:only-child::after {width: 0;}#sk-container-id-9 div.sk-dashed-wrapped {border: 1px dashed gray;margin: 0 0.4em 0.5em 0.4em;box-sizing: border-box;padding-bottom: 0.4em;background-color: white;}#sk-container-id-9 div.sk-label label {font-family: monospace;font-weight: bold;display: inline-block;line-height: 1.2em;}#sk-container-id-9 div.sk-label-container {text-align: center;}#sk-container-id-9 div.sk-container {/* jupyter's `normalize.less` sets `[hidden] { display: none; }` but bootstrap.min.css set `[hidden] { display: none !important; }` so we also need the `!important` here to be able to override the default hidden behavior on the sphinx rendered scikit-learn.org. See: https://github.com/scikit-learn/scikit-learn/issues/21755 */display: inline-block !important;position: relative;}#sk-container-id-9 div.sk-text-repr-fallback {display: none;}</style><div id=\"sk-container-id-9\" class=\"sk-top-container\"><div class=\"sk-text-repr-fallback\"><pre>Pipeline(steps=[(&#x27;standard_scaler&#x27;, StandardScaler()),\n",
       "                (&#x27;gradient_boosting_class&#x27;, GradientBoostingClassifier())])</pre><b>In a Jupyter environment, please rerun this cell to show the HTML representation or trust the notebook. <br />On GitHub, the HTML representation is unable to render, please try loading this page with nbviewer.org.</b></div><div class=\"sk-container\" hidden><div class=\"sk-item sk-dashed-wrapped\"><div class=\"sk-label-container\"><div class=\"sk-label sk-toggleable\"><input class=\"sk-toggleable__control sk-hidden--visually\" id=\"sk-estimator-id-25\" type=\"checkbox\" ><label for=\"sk-estimator-id-25\" class=\"sk-toggleable__label sk-toggleable__label-arrow\">Pipeline</label><div class=\"sk-toggleable__content\"><pre>Pipeline(steps=[(&#x27;standard_scaler&#x27;, StandardScaler()),\n",
       "                (&#x27;gradient_boosting_class&#x27;, GradientBoostingClassifier())])</pre></div></div></div><div class=\"sk-serial\"><div class=\"sk-item\"><div class=\"sk-estimator sk-toggleable\"><input class=\"sk-toggleable__control sk-hidden--visually\" id=\"sk-estimator-id-26\" type=\"checkbox\" ><label for=\"sk-estimator-id-26\" class=\"sk-toggleable__label sk-toggleable__label-arrow\">StandardScaler</label><div class=\"sk-toggleable__content\"><pre>StandardScaler()</pre></div></div></div><div class=\"sk-item\"><div class=\"sk-estimator sk-toggleable\"><input class=\"sk-toggleable__control sk-hidden--visually\" id=\"sk-estimator-id-27\" type=\"checkbox\" ><label for=\"sk-estimator-id-27\" class=\"sk-toggleable__label sk-toggleable__label-arrow\">GradientBoostingClassifier</label><div class=\"sk-toggleable__content\"><pre>GradientBoostingClassifier()</pre></div></div></div></div></div></div></div>"
      ],
      "text/plain": [
       "Pipeline(steps=[('standard_scaler', StandardScaler()),\n",
       "                ('gradient_boosting_class', GradientBoostingClassifier())])"
      ]
     },
     "execution_count": 31,
     "metadata": {},
     "output_type": "execute_result"
    }
   ],
   "source": [
    "pipeline_gbc_ss = Pipeline([\n",
    "    ('standard_scaler', StandardScaler()),\n",
    "    ('gradient_boosting_class', GradientBoostingClassifier())\n",
    "])\n",
    "\n",
    "pipeline_gbc_ss.fit(X_train, y_train)"
   ]
  },
  {
   "cell_type": "code",
   "execution_count": 27,
   "metadata": {},
   "outputs": [
    {
     "name": "stdout",
     "output_type": "stream",
     "text": [
      "Accuracy:  0.5\n",
      "F1 Score:  0.3333333333333333\n"
     ]
    }
   ],
   "source": [
    "y_pred = pipeline_gbc_ss.predict(X_test)\n",
    "acc = accuracy_score(y_test, y_pred)\n",
    "f1 = f1_score(y_test, y_pred, average='weighted')\n",
    "print(\"Accuracy: \", acc)\n",
    "print(\"F1 Score: \", f1)\n"
   ]
  },
  {
   "attachments": {},
   "cell_type": "markdown",
   "metadata": {},
   "source": [
    "## Using the best_params_ values"
   ]
  },
  {
   "cell_type": "code",
   "execution_count": 34,
   "metadata": {},
   "outputs": [
    {
     "data": {
      "text/html": [
       "<style>#sk-container-id-10 {color: black;background-color: white;}#sk-container-id-10 pre{padding: 0;}#sk-container-id-10 div.sk-toggleable {background-color: white;}#sk-container-id-10 label.sk-toggleable__label {cursor: pointer;display: block;width: 100%;margin-bottom: 0;padding: 0.3em;box-sizing: border-box;text-align: center;}#sk-container-id-10 label.sk-toggleable__label-arrow:before {content: \"▸\";float: left;margin-right: 0.25em;color: #696969;}#sk-container-id-10 label.sk-toggleable__label-arrow:hover:before {color: black;}#sk-container-id-10 div.sk-estimator:hover label.sk-toggleable__label-arrow:before {color: black;}#sk-container-id-10 div.sk-toggleable__content {max-height: 0;max-width: 0;overflow: hidden;text-align: left;background-color: #f0f8ff;}#sk-container-id-10 div.sk-toggleable__content pre {margin: 0.2em;color: black;border-radius: 0.25em;background-color: #f0f8ff;}#sk-container-id-10 input.sk-toggleable__control:checked~div.sk-toggleable__content {max-height: 200px;max-width: 100%;overflow: auto;}#sk-container-id-10 input.sk-toggleable__control:checked~label.sk-toggleable__label-arrow:before {content: \"▾\";}#sk-container-id-10 div.sk-estimator input.sk-toggleable__control:checked~label.sk-toggleable__label {background-color: #d4ebff;}#sk-container-id-10 div.sk-label input.sk-toggleable__control:checked~label.sk-toggleable__label {background-color: #d4ebff;}#sk-container-id-10 input.sk-hidden--visually {border: 0;clip: rect(1px 1px 1px 1px);clip: rect(1px, 1px, 1px, 1px);height: 1px;margin: -1px;overflow: hidden;padding: 0;position: absolute;width: 1px;}#sk-container-id-10 div.sk-estimator {font-family: monospace;background-color: #f0f8ff;border: 1px dotted black;border-radius: 0.25em;box-sizing: border-box;margin-bottom: 0.5em;}#sk-container-id-10 div.sk-estimator:hover {background-color: #d4ebff;}#sk-container-id-10 div.sk-parallel-item::after {content: \"\";width: 100%;border-bottom: 1px solid gray;flex-grow: 1;}#sk-container-id-10 div.sk-label:hover label.sk-toggleable__label {background-color: #d4ebff;}#sk-container-id-10 div.sk-serial::before {content: \"\";position: absolute;border-left: 1px solid gray;box-sizing: border-box;top: 0;bottom: 0;left: 50%;z-index: 0;}#sk-container-id-10 div.sk-serial {display: flex;flex-direction: column;align-items: center;background-color: white;padding-right: 0.2em;padding-left: 0.2em;position: relative;}#sk-container-id-10 div.sk-item {position: relative;z-index: 1;}#sk-container-id-10 div.sk-parallel {display: flex;align-items: stretch;justify-content: center;background-color: white;position: relative;}#sk-container-id-10 div.sk-item::before, #sk-container-id-10 div.sk-parallel-item::before {content: \"\";position: absolute;border-left: 1px solid gray;box-sizing: border-box;top: 0;bottom: 0;left: 50%;z-index: -1;}#sk-container-id-10 div.sk-parallel-item {display: flex;flex-direction: column;z-index: 1;position: relative;background-color: white;}#sk-container-id-10 div.sk-parallel-item:first-child::after {align-self: flex-end;width: 50%;}#sk-container-id-10 div.sk-parallel-item:last-child::after {align-self: flex-start;width: 50%;}#sk-container-id-10 div.sk-parallel-item:only-child::after {width: 0;}#sk-container-id-10 div.sk-dashed-wrapped {border: 1px dashed gray;margin: 0 0.4em 0.5em 0.4em;box-sizing: border-box;padding-bottom: 0.4em;background-color: white;}#sk-container-id-10 div.sk-label label {font-family: monospace;font-weight: bold;display: inline-block;line-height: 1.2em;}#sk-container-id-10 div.sk-label-container {text-align: center;}#sk-container-id-10 div.sk-container {/* jupyter's `normalize.less` sets `[hidden] { display: none; }` but bootstrap.min.css set `[hidden] { display: none !important; }` so we also need the `!important` here to be able to override the default hidden behavior on the sphinx rendered scikit-learn.org. See: https://github.com/scikit-learn/scikit-learn/issues/21755 */display: inline-block !important;position: relative;}#sk-container-id-10 div.sk-text-repr-fallback {display: none;}</style><div id=\"sk-container-id-10\" class=\"sk-top-container\"><div class=\"sk-text-repr-fallback\"><pre>Pipeline(steps=[(&#x27;standard_scaler&#x27;, StandardScaler()),\n",
       "                (&#x27;gradient_boosting_class&#x27;,\n",
       "                 GradientBoostingClassifier(learning_rate=0.2, max_depth=4,\n",
       "                                            max_features=9, min_samples_leaf=5,\n",
       "                                            min_samples_split=6))])</pre><b>In a Jupyter environment, please rerun this cell to show the HTML representation or trust the notebook. <br />On GitHub, the HTML representation is unable to render, please try loading this page with nbviewer.org.</b></div><div class=\"sk-container\" hidden><div class=\"sk-item sk-dashed-wrapped\"><div class=\"sk-label-container\"><div class=\"sk-label sk-toggleable\"><input class=\"sk-toggleable__control sk-hidden--visually\" id=\"sk-estimator-id-28\" type=\"checkbox\" ><label for=\"sk-estimator-id-28\" class=\"sk-toggleable__label sk-toggleable__label-arrow\">Pipeline</label><div class=\"sk-toggleable__content\"><pre>Pipeline(steps=[(&#x27;standard_scaler&#x27;, StandardScaler()),\n",
       "                (&#x27;gradient_boosting_class&#x27;,\n",
       "                 GradientBoostingClassifier(learning_rate=0.2, max_depth=4,\n",
       "                                            max_features=9, min_samples_leaf=5,\n",
       "                                            min_samples_split=6))])</pre></div></div></div><div class=\"sk-serial\"><div class=\"sk-item\"><div class=\"sk-estimator sk-toggleable\"><input class=\"sk-toggleable__control sk-hidden--visually\" id=\"sk-estimator-id-29\" type=\"checkbox\" ><label for=\"sk-estimator-id-29\" class=\"sk-toggleable__label sk-toggleable__label-arrow\">StandardScaler</label><div class=\"sk-toggleable__content\"><pre>StandardScaler()</pre></div></div></div><div class=\"sk-item\"><div class=\"sk-estimator sk-toggleable\"><input class=\"sk-toggleable__control sk-hidden--visually\" id=\"sk-estimator-id-30\" type=\"checkbox\" ><label for=\"sk-estimator-id-30\" class=\"sk-toggleable__label sk-toggleable__label-arrow\">GradientBoostingClassifier</label><div class=\"sk-toggleable__content\"><pre>GradientBoostingClassifier(learning_rate=0.2, max_depth=4, max_features=9,\n",
       "                           min_samples_leaf=5, min_samples_split=6)</pre></div></div></div></div></div></div></div>"
      ],
      "text/plain": [
       "Pipeline(steps=[('standard_scaler', StandardScaler()),\n",
       "                ('gradient_boosting_class',\n",
       "                 GradientBoostingClassifier(learning_rate=0.2, max_depth=4,\n",
       "                                            max_features=9, min_samples_leaf=5,\n",
       "                                            min_samples_split=6))])"
      ]
     },
     "execution_count": 34,
     "metadata": {},
     "output_type": "execute_result"
    }
   ],
   "source": [
    "pipeline_gbc_ss.set_params(gradient_boosting_class__n_estimators=100,\n",
    "                           gradient_boosting_class__min_samples_split=6,\n",
    "                           gradient_boosting_class__min_samples_leaf=5,\n",
    "                           gradient_boosting_class__max_features=9,\n",
    "                           gradient_boosting_class__max_depth=4,\n",
    "                           gradient_boosting_class__learning_rate=0.2)\n"
   ]
  },
  {
   "cell_type": "code",
   "execution_count": 35,
   "metadata": {},
   "outputs": [],
   "source": [
    "pipeline_gbc_ss.fit(X_train, y_train)\n",
    "y_pred = pipeline_gbc_ss.predict(X_test)\n"
   ]
  },
  {
   "cell_type": "code",
   "execution_count": 36,
   "metadata": {},
   "outputs": [
    {
     "name": "stdout",
     "output_type": "stream",
     "text": [
      "Accuracy:  0.5\n",
      "F1 Score:  0.3333333333333333\n"
     ]
    }
   ],
   "source": [
    "\n",
    "acc = accuracy_score(y_test, y_pred)\n",
    "f1 = f1_score(y_test, y_pred, average='weighted')\n",
    "print(\"Accuracy: \", acc)\n",
    "print(\"F1 Score: \", f1)"
   ]
  }
 ],
 "metadata": {
  "kernelspec": {
   "display_name": "ml_env",
   "language": "python",
   "name": "python3"
  },
  "language_info": {
   "codemirror_mode": {
    "name": "ipython",
    "version": 3
   },
   "file_extension": ".py",
   "mimetype": "text/x-python",
   "name": "python",
   "nbconvert_exporter": "python",
   "pygments_lexer": "ipython3",
   "version": "3.8.16 (default, Jan 17 2023, 23:13:24) \n[GCC 11.2.0]"
  },
  "orig_nbformat": 4,
  "vscode": {
   "interpreter": {
    "hash": "76b54e4171b061481a66918389851c0779072ae34f474320eb13ba00c5cc8c8d"
   }
  }
 },
 "nbformat": 4,
 "nbformat_minor": 2
}
